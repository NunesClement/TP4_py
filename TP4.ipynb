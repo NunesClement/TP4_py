{
 "cells": [
  {
   "cell_type": "code",
   "execution_count": 54,
   "metadata": {},
   "outputs": [
    {
     "name": "stdout",
     "output_type": "stream",
     "text": [
      "(1797, 65)\n",
      "[[ 0.  0.  5. ...  0.  0.  0.]\n",
      " [ 0.  0.  0. ... 10.  0.  0.]\n",
      " [ 0.  0.  0. ... 16.  9.  0.]\n",
      " ...\n",
      " [ 0.  0.  1. ...  6.  0.  0.]\n",
      " [ 0.  0.  2. ... 12.  0.  0.]\n",
      " [ 0.  0. 10. ... 12.  1.  0.]]\n",
      "[0. 1. 2. ... 8. 9. 8.]\n"
     ]
    }
   ],
   "source": [
    "import matplotlib.pyplot as plt\n",
    "import pandas as pd\n",
    "import numpy as np\n",
    "\n",
    "data = np.loadtxt(\"digits.txt\")\n",
    "\n",
    "X = data[:,:-1]\n",
    "Y = data[:,-1]\n",
    "print(data.shape)\n",
    "print(X)\n",
    "print(Y)\n",
    "\n",
    "\n"
   ]
  },
  {
   "cell_type": "code",
   "execution_count": 55,
   "metadata": {},
   "outputs": [
    {
     "name": "stdout",
     "output_type": "stream",
     "text": [
      "[[ 0.  0.  5. 13.  9.  1.  0.  0.]\n",
      " [ 0.  0. 13. 15. 10. 15.  5.  0.]\n",
      " [ 0.  3. 15.  2.  0. 11.  8.  0.]\n",
      " [ 0.  4. 12.  0.  0.  8.  8.  0.]\n",
      " [ 0.  5.  8.  0.  0.  9.  8.  0.]\n",
      " [ 0.  4. 11.  0.  1. 12.  7.  0.]\n",
      " [ 0.  2. 14.  5. 10. 12.  0.  0.]\n",
      " [ 0.  0.  6. 13. 10.  0.  0.  0.]]\n"
     ]
    }
   ],
   "source": [
    "X_shape_zero = X[0,:].reshape(8,8)\n",
    "print(X_shape_zero)\n",
    "#On peut voir le 0 dans la matrice"
   ]
  },
  {
   "cell_type": "code",
   "execution_count": 56,
   "metadata": {},
   "outputs": [
    {
     "data": {
      "image/png": "[encoded data removed]",
      "text/plain": [
       "<Figure size 432x288 with 1 Axes>"
      ]
     },
     "metadata": {
      "needs_background": "light"
     },
     "output_type": "display_data"
    }
   ],
   "source": [
    "plt.imshow(X_shape_zero, cmap='gray_r')\n",
    "plt.show()\n"
   ]
  },
  {
   "cell_type": "code",
   "execution_count": 57,
   "metadata": {},
   "outputs": [
    {
     "name": "stdout",
     "output_type": "stream",
     "text": [
      "d : 64\n",
      "Nombre de paramètres  650\n"
     ]
    }
   ],
   "source": [
    "#Quels sont les valeurs d et k dans ce problème ? Combien y a-t-il de paramètres àapprendre dans ce modèle ?\n",
    "#Le d est la taille de la matrice\n",
    "#Le k est le nombre de classes, d'object à trier (k= 10) 0-9\n",
    "\n",
    "#Nombre de paramètres à prendre en compte : d+1 * k = le nombre de paramètres interessant\n",
    "d = X.shape[1]\n",
    "k = 10\n",
    "print(\"d :\", d)\n",
    "nbParam = (d+1)*k\n",
    "print(\"Nombre de paramètres \", nbParam)"
   ]
  },
  {
   "cell_type": "code",
   "execution_count": 58,
   "metadata": {},
   "outputs": [],
   "source": [
    "#4),nbParam\n",
    "np.random.seed(10)\n",
    "weights = np.random.randn(d+1, k)/100\n",
    "#print(weight)"
   ]
  },
  {
   "cell_type": "code",
   "execution_count": 59,
   "metadata": {},
   "outputs": [
    {
     "name": "stdout",
     "output_type": "stream",
     "text": [
      "[[ 1.  0.  0. ...  0.  0.  0.]\n",
      " [ 1.  0.  0. ... 10.  0.  0.]\n",
      " [ 1.  0.  0. ... 16.  9.  0.]\n",
      " ...\n",
      " [ 1.  0.  0. ...  6.  0.  0.]\n",
      " [ 1.  0.  0. ... 12.  0.  0.]\n",
      " [ 1.  0.  0. ... 12.  1.  0.]]\n",
      "(1797, 65)\n"
     ]
    }
   ],
   "source": [
    "#5)\n",
    "X = np.hstack ((np.ones((X.shape[0], 1)),X))\n",
    "print(X)\n",
    "print(X.shape)"
   ]
  },
  {
   "cell_type": "code",
   "execution_count": 60,
   "metadata": {},
   "outputs": [],
   "source": [
    "#6) Créer une fonction nommée output qui prend en paramètre une matrice d’entrées X et la matrice\n",
    "#des paramètres du modèle et renvoie la matrice des sorties du modèle.\n",
    "\n",
    "def output(X1 , weights1):\n",
    "    outputX = np.dot(X1, weights1) #outputX = sortie\n",
    "    exp = np.exp(outputX)\n",
    "    sum = np.sum(exp,1)\n",
    "    print(sum.shape[0])\n",
    "    return exp/sum.reshape(sum.shape[0], 1)\n"
   ]
  },
  {
   "cell_type": "code",
   "execution_count": 61,
   "metadata": {},
   "outputs": [
    {
     "name": "stdout",
     "output_type": "stream",
     "text": [
      "1797\n"
     ]
    }
   ],
   "source": [
    "#Tester cette fonction avec la matrice X des entrées du dataset digits \n",
    "#afin d’obtenir une matricef contenant l’ensemble des sorties du modèle.\n",
    "#Afficher ensuite cette matrice des sorties dumodèle et calculer la somme par\n",
    "#ligne de cette matrice pour vérifier que tout est cohérent.\n",
    "\n",
    "#7)\n",
    "predictionf = output(X, weights)"
   ]
  },
  {
   "cell_type": "code",
   "execution_count": 62,
   "metadata": {},
   "outputs": [],
   "source": [
    "\n",
    "# Transformer le vecteur y des labels de façon à obtenir une matrice avec un\n",
    "#one hot encoding ligne par ligne. cf. en haut du slide 5 du cours 7\n",
    "\n",
    "#s = pd.Series(Y)\n",
    "#hotEncoded = pd.get_dummies(s)\n",
    "#print(hotEncoded)\n",
    "# OU\n",
    "y_one_hot = np.zeros((Y.shape[0], k))\n",
    "for i in range(Y.shape[0]):\n",
    "    y_one_hot[1, int(Y[i])] = 1"
   ]
  },
  {
   "cell_type": "code",
   "execution_count": 10,
   "metadata": {},
   "outputs": [
    {
     "name": "stdout",
     "output_type": "stream",
     "text": [
      "0.013430580301035156\n"
     ]
    }
   ],
   "source": [
    "#Créer une fonction nommée crossentropy qui prend en paramètre une matrice de prédictionsf et une matrice y_one_hot\n",
    "#correspondant au \"one hot encoding\" des labels et qui calcule le terme \n",
    "#d’erreur global défini par l’équation 2 du slide 5 du cours 7.    \n",
    "    \n",
    "def crossEntropy(predictionf, y_one_hot):\n",
    "    return -(y_one_hot*np.log(predictionf)).sum()/y_one_hot.shape[0]\n",
    "    \n",
    "print(crossEntropy(predictionf, y_one_hot))\n"
   ]
  },
  {
   "cell_type": "code",
   "execution_count": 11,
   "metadata": {},
   "outputs": [
    {
     "name": "stdout",
     "output_type": "stream",
     "text": [
      "5.031020952781898e-05\n"
     ]
    }
   ],
   "source": [
    "#Tester cette fonction avec la matrice f précédemment obtenue et la matrice des labels avec le one hot encoding obtenu à la question 8\n",
    "#Proposer une matrice de sortie du modèle plausible pour laquelle le terme d’erreur sera trèsproche de \n",
    "f_test = y_one_hot *0.991 + (1-y_one_hot)*0.01\n",
    "print(crossEntropy(f_test, y_one_hot))\n",
    "\n"
   ]
  },
  {
   "cell_type": "code",
   "execution_count": 12,
   "metadata": {},
   "outputs": [],
   "source": [
    "#Créer une fonction nommée prediction qui prend en entrée une matrice f contenant l’ensemble des sorties du modèle\n",
    "#et renvoie le vecteur avec l’ensemble des classes prédites pour tous les exemples.\n",
    "def prediction (f):\n",
    "        return np.argmax(predictionf,1)\n",
    "    "
   ]
  },
  {
   "cell_type": "code",
   "execution_count": null,
   "metadata": {},
   "outputs": [],
   "source": []
  }
 ],
 "metadata": {
  "kernelspec": {
   "display_name": "Python",
   "language": "python",
   "name": "conda-env-python-py"
  },
  "language_info": {
   "codemirror_mode": {
    "name": "ipython",
    "version": 3
   },
   "file_extension": ".py",
   "mimetype": "text/x-python",
   "name": "python",
   "nbconvert_exporter": "python",
   "pygments_lexer": "ipython3",
   "version": "3.6.7"
  }
 },
 "nbformat": 4,
 "nbformat_minor": 4
}
